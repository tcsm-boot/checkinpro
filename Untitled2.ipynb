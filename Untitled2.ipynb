{
  "nbformat": 4,
  "nbformat_minor": 0,
  "metadata": {
    "colab": {
      "provenance": [],
      "authorship_tag": "ABX9TyOcuAAFcJCb2qAz+4uwNfDy",
      "include_colab_link": true
    },
    "kernelspec": {
      "name": "python3",
      "display_name": "Python 3"
    },
    "language_info": {
      "name": "python"
    },
    "widgets": {
      "application/vnd.jupyter.widget-state+json": {
        "15caccfcee9f41fda60eb7cb4ad53df4": {
          "model_module": "@jupyter-widgets/controls",
          "model_name": "DropdownModel",
          "model_module_version": "1.5.0",
          "state": {
            "_dom_classes": [],
            "_model_module": "@jupyter-widgets/controls",
            "_model_module_version": "1.5.0",
            "_model_name": "DropdownModel",
            "_options_labels": [
              "Ana",
              "Beatriz",
              "Carlos",
              "Daniela",
              "Eduarda"
            ],
            "_view_count": null,
            "_view_module": "@jupyter-widgets/controls",
            "_view_module_version": "1.5.0",
            "_view_name": "DropdownView",
            "description": "Aluno:",
            "description_tooltip": null,
            "disabled": false,
            "index": 0,
            "layout": "IPY_MODEL_83776449c6884d3cacb7fa1478ac25c9",
            "style": "IPY_MODEL_d0764bcf81124f67a5bb041b0268595d"
          }
        },
        "83776449c6884d3cacb7fa1478ac25c9": {
          "model_module": "@jupyter-widgets/base",
          "model_name": "LayoutModel",
          "model_module_version": "1.2.0",
          "state": {
            "_model_module": "@jupyter-widgets/base",
            "_model_module_version": "1.2.0",
            "_model_name": "LayoutModel",
            "_view_count": null,
            "_view_module": "@jupyter-widgets/base",
            "_view_module_version": "1.2.0",
            "_view_name": "LayoutView",
            "align_content": null,
            "align_items": null,
            "align_self": null,
            "border": null,
            "bottom": null,
            "display": null,
            "flex": null,
            "flex_flow": null,
            "grid_area": null,
            "grid_auto_columns": null,
            "grid_auto_flow": null,
            "grid_auto_rows": null,
            "grid_column": null,
            "grid_gap": null,
            "grid_row": null,
            "grid_template_areas": null,
            "grid_template_columns": null,
            "grid_template_rows": null,
            "height": null,
            "justify_content": null,
            "justify_items": null,
            "left": null,
            "margin": null,
            "max_height": null,
            "max_width": null,
            "min_height": null,
            "min_width": null,
            "object_fit": null,
            "object_position": null,
            "order": null,
            "overflow": null,
            "overflow_x": null,
            "overflow_y": null,
            "padding": null,
            "right": null,
            "top": null,
            "visibility": null,
            "width": null
          }
        },
        "d0764bcf81124f67a5bb041b0268595d": {
          "model_module": "@jupyter-widgets/controls",
          "model_name": "DescriptionStyleModel",
          "model_module_version": "1.5.0",
          "state": {
            "_model_module": "@jupyter-widgets/controls",
            "_model_module_version": "1.5.0",
            "_model_name": "DescriptionStyleModel",
            "_view_count": null,
            "_view_module": "@jupyter-widgets/base",
            "_view_module_version": "1.2.0",
            "_view_name": "StyleView",
            "description_width": ""
          }
        },
        "34338024d30448e8ac22cc1c693b22dd": {
          "model_module": "@jupyter-widgets/controls",
          "model_name": "ButtonModel",
          "model_module_version": "1.5.0",
          "state": {
            "_dom_classes": [],
            "_model_module": "@jupyter-widgets/controls",
            "_model_module_version": "1.5.0",
            "_model_name": "ButtonModel",
            "_view_count": null,
            "_view_module": "@jupyter-widgets/controls",
            "_view_module_version": "1.5.0",
            "_view_name": "ButtonView",
            "button_style": "",
            "description": "Registrar Presença",
            "disabled": false,
            "icon": "",
            "layout": "IPY_MODEL_ce94591e43c64f2b8ced61de66374300",
            "style": "IPY_MODEL_fa764715316f4ee1aa00fdd2bbcdbd38",
            "tooltip": ""
          }
        },
        "ce94591e43c64f2b8ced61de66374300": {
          "model_module": "@jupyter-widgets/base",
          "model_name": "LayoutModel",
          "model_module_version": "1.2.0",
          "state": {
            "_model_module": "@jupyter-widgets/base",
            "_model_module_version": "1.2.0",
            "_model_name": "LayoutModel",
            "_view_count": null,
            "_view_module": "@jupyter-widgets/base",
            "_view_module_version": "1.2.0",
            "_view_name": "LayoutView",
            "align_content": null,
            "align_items": null,
            "align_self": null,
            "border": null,
            "bottom": null,
            "display": null,
            "flex": null,
            "flex_flow": null,
            "grid_area": null,
            "grid_auto_columns": null,
            "grid_auto_flow": null,
            "grid_auto_rows": null,
            "grid_column": null,
            "grid_gap": null,
            "grid_row": null,
            "grid_template_areas": null,
            "grid_template_columns": null,
            "grid_template_rows": null,
            "height": null,
            "justify_content": null,
            "justify_items": null,
            "left": null,
            "margin": null,
            "max_height": null,
            "max_width": null,
            "min_height": null,
            "min_width": null,
            "object_fit": null,
            "object_position": null,
            "order": null,
            "overflow": null,
            "overflow_x": null,
            "overflow_y": null,
            "padding": null,
            "right": null,
            "top": null,
            "visibility": null,
            "width": null
          }
        },
        "fa764715316f4ee1aa00fdd2bbcdbd38": {
          "model_module": "@jupyter-widgets/controls",
          "model_name": "ButtonStyleModel",
          "model_module_version": "1.5.0",
          "state": {
            "_model_module": "@jupyter-widgets/controls",
            "_model_module_version": "1.5.0",
            "_model_name": "ButtonStyleModel",
            "_view_count": null,
            "_view_module": "@jupyter-widgets/base",
            "_view_module_version": "1.2.0",
            "_view_name": "StyleView",
            "button_color": null,
            "font_weight": ""
          }
        },
        "63c9e4bc5da4401291b3d3ee2fe83b8a": {
          "model_module": "@jupyter-widgets/controls",
          "model_name": "ButtonModel",
          "model_module_version": "1.5.0",
          "state": {
            "_dom_classes": [],
            "_model_module": "@jupyter-widgets/controls",
            "_model_module_version": "1.5.0",
            "_model_name": "ButtonModel",
            "_view_count": null,
            "_view_module": "@jupyter-widgets/controls",
            "_view_module_version": "1.5.0",
            "_view_name": "ButtonView",
            "button_style": "",
            "description": "Analisar Risco",
            "disabled": false,
            "icon": "",
            "layout": "IPY_MODEL_74f8fed63aea4ce8967f67c56c14d2bc",
            "style": "IPY_MODEL_8490824dda574fe087943e6fb3b924ac",
            "tooltip": ""
          }
        },
        "74f8fed63aea4ce8967f67c56c14d2bc": {
          "model_module": "@jupyter-widgets/base",
          "model_name": "LayoutModel",
          "model_module_version": "1.2.0",
          "state": {
            "_model_module": "@jupyter-widgets/base",
            "_model_module_version": "1.2.0",
            "_model_name": "LayoutModel",
            "_view_count": null,
            "_view_module": "@jupyter-widgets/base",
            "_view_module_version": "1.2.0",
            "_view_name": "LayoutView",
            "align_content": null,
            "align_items": null,
            "align_self": null,
            "border": null,
            "bottom": null,
            "display": null,
            "flex": null,
            "flex_flow": null,
            "grid_area": null,
            "grid_auto_columns": null,
            "grid_auto_flow": null,
            "grid_auto_rows": null,
            "grid_column": null,
            "grid_gap": null,
            "grid_row": null,
            "grid_template_areas": null,
            "grid_template_columns": null,
            "grid_template_rows": null,
            "height": null,
            "justify_content": null,
            "justify_items": null,
            "left": null,
            "margin": null,
            "max_height": null,
            "max_width": null,
            "min_height": null,
            "min_width": null,
            "object_fit": null,
            "object_position": null,
            "order": null,
            "overflow": null,
            "overflow_x": null,
            "overflow_y": null,
            "padding": null,
            "right": null,
            "top": null,
            "visibility": null,
            "width": null
          }
        },
        "8490824dda574fe087943e6fb3b924ac": {
          "model_module": "@jupyter-widgets/controls",
          "model_name": "ButtonStyleModel",
          "model_module_version": "1.5.0",
          "state": {
            "_model_module": "@jupyter-widgets/controls",
            "_model_module_version": "1.5.0",
            "_model_name": "ButtonStyleModel",
            "_view_count": null,
            "_view_module": "@jupyter-widgets/base",
            "_view_module_version": "1.2.0",
            "_view_name": "StyleView",
            "button_color": null,
            "font_weight": ""
          }
        },
        "1c2585a021cd4f2a9099eb4801c7b7d3": {
          "model_module": "@jupyter-widgets/output",
          "model_name": "OutputModel",
          "model_module_version": "1.0.0",
          "state": {
            "_dom_classes": [],
            "_model_module": "@jupyter-widgets/output",
            "_model_module_version": "1.0.0",
            "_model_name": "OutputModel",
            "_view_count": null,
            "_view_module": "@jupyter-widgets/output",
            "_view_module_version": "1.0.0",
            "_view_name": "OutputView",
            "layout": "IPY_MODEL_5b085081a4084ff58caecfa601ddc1eb",
            "msg_id": "",
            "outputs": []
          }
        },
        "5b085081a4084ff58caecfa601ddc1eb": {
          "model_module": "@jupyter-widgets/base",
          "model_name": "LayoutModel",
          "model_module_version": "1.2.0",
          "state": {
            "_model_module": "@jupyter-widgets/base",
            "_model_module_version": "1.2.0",
            "_model_name": "LayoutModel",
            "_view_count": null,
            "_view_module": "@jupyter-widgets/base",
            "_view_module_version": "1.2.0",
            "_view_name": "LayoutView",
            "align_content": null,
            "align_items": null,
            "align_self": null,
            "border": null,
            "bottom": null,
            "display": null,
            "flex": null,
            "flex_flow": null,
            "grid_area": null,
            "grid_auto_columns": null,
            "grid_auto_flow": null,
            "grid_auto_rows": null,
            "grid_column": null,
            "grid_gap": null,
            "grid_row": null,
            "grid_template_areas": null,
            "grid_template_columns": null,
            "grid_template_rows": null,
            "height": null,
            "justify_content": null,
            "justify_items": null,
            "left": null,
            "margin": null,
            "max_height": null,
            "max_width": null,
            "min_height": null,
            "min_width": null,
            "object_fit": null,
            "object_position": null,
            "order": null,
            "overflow": null,
            "overflow_x": null,
            "overflow_y": null,
            "padding": null,
            "right": null,
            "top": null,
            "visibility": null,
            "width": null
          }
        }
      }
    }
  },
  "cells": [
    {
      "cell_type": "markdown",
      "metadata": {
        "id": "view-in-github",
        "colab_type": "text"
      },
      "source": [
        "<a href=\"https://colab.research.google.com/github/tcsm-boot/checkinpro/blob/main/Untitled2.ipynb\" target=\"_parent\"><img src=\"https://colab.research.google.com/assets/colab-badge.svg\" alt=\"Open In Colab\"/></a>"
      ]
    },
    {
      "cell_type": "code",
      "execution_count": 1,
      "metadata": {
        "id": "QhKNK1Pit29m",
        "colab": {
          "base_uri": "https://localhost:8080/",
          "height": 110
        },
        "outputId": "0ca0a02e-268d-440c-e538-206d6ebb8092"
      },
      "outputs": [
        {
          "output_type": "error",
          "ename": "SyntaxError",
          "evalue": "invalid syntax (<ipython-input-1-4f688946707d>, line 1)",
          "traceback": [
            "\u001b[0;36m  File \u001b[0;32m\"<ipython-input-1-4f688946707d>\"\u001b[0;36m, line \u001b[0;32m1\u001b[0m\n\u001b[0;31m    Monitor faltas\u001b[0m\n\u001b[0m            ^\u001b[0m\n\u001b[0;31mSyntaxError\u001b[0m\u001b[0;31m:\u001b[0m invalid syntax\n"
          ]
        }
      ],
      "source": [
        "Monitor faltas"
      ]
    },
    {
      "cell_type": "code",
      "source": [
        "import pandas as pd\n",
        "import numpy as np\n",
        "from sklearn.ensemble import RandomForestClassifier\n",
        "import ipywidgets as widgets\n",
        "from IPython.display import display, clear_output\n",
        "\n",
        "# Dados fictícios\n",
        "alunos = [\"Ana\", \"Beatriz\", \"Carlos\", \"Daniela\", \"Eduarda\"]\n",
        "dados = pd.DataFrame({\n",
        "    \"aluno\": alunos,\n",
        "    \"frequencia_no_mes\": [12, 7, 9, 5, 3],\n",
        "    \"faltas\": [2, 5, 3, 7, 9],\n",
        "    \"contrato_meses\": [12, 2, 6, 1, 2],\n",
        "    \"estacao\": [\"inverno\", \"inverno\", \"verao\", \"inverno\", \"inverno\"]\n",
        "})\n",
        "\n",
        "def treinar_modelo(df):\n",
        "    df_proc = df.copy()\n",
        "    df_proc[\"estacao\"] = df_proc[\"estacao\"].map({\"inverno\": 1, \"verao\": 0})\n",
        "    df_proc[\"evadiu\"] = df_proc.apply(lambda row: 1 if row[\"frequencia_no_mes\"] < 8 and row[\"estacao\"] == 1 else 0, axis=1)\n",
        "    X = df_proc[[\"frequencia_no_mes\", \"faltas\", \"contrato_meses\", \"estacao\"]]\n",
        "    y = df_proc[\"evadiu\"]\n",
        "    modelo = RandomForestClassifier()\n",
        "    modelo.fit(X, y)\n",
        "    return modelo\n",
        "\n",
        "modelo = treinar_modelo(dados)\n",
        "\n",
        "def registrar_presenca(aluno_nome):\n",
        "    global dados, modelo\n",
        "    dados.loc[dados[\"aluno\"] == aluno_nome, \"frequencia_no_mes\"] += 1\n",
        "    print(f\"✅ Presença registrada para {aluno_nome}\")\n",
        "    display(dados)\n",
        "    modelo = treinar_modelo(dados)\n",
        "\n",
        "def analisar_risco(aluno_nome):\n",
        "    global dados, modelo\n",
        "    linha = dados[dados[\"aluno\"] == aluno_nome]\n",
        "    entrada = linha[[\"frequencia_no_mes\", \"faltas\", \"contrato_meses\"]].copy()\n",
        "    entrada[\"estacao\"] = 1 if linha[\"estacao\"].values[0] == \"inverno\" else 0\n",
        "    prob = modelo.predict_proba(entrada)[0][1]\n",
        "    print(f\"📌 Análise de evasão para {aluno_nome}:\")\n",
        "    if prob > 0.7:\n",
        "        print(f\"🚨 Risco de evasão: ALTO ({prob:.0%})\")\n",
        "    elif prob > 0.4:\n",
        "        print(f\"⚠️ Risco de evasão: MÉDIO ({prob:.0%})\")\n",
        "    else:\n",
        "        print(f\"✅ Risco de evasão: BAIXO ({prob:.0%})\")\n",
        "\n",
        "# Interface interativa\n",
        "aluno_dropdown = widgets.Dropdown(options=alunos, description=\"Aluno:\")\n",
        "botao_presenca = widgets.Button(description=\"Registrar Presença\")\n",
        "botao_analise = widgets.Button(description=\"Analisar Risco\")\n",
        "\n",
        "output = widgets.Output()\n",
        "\n",
        "def on_registrar_clicked(b):\n",
        "    with output:\n",
        "        clear_output()\n",
        "        registrar_presenca(aluno_dropdown.value)\n",
        "\n",
        "def on_analise_clicked(b):\n",
        "    with output:\n",
        "        clear_output()\n",
        "        analisar_risco(aluno_dropdown.value)\n",
        "\n",
        "botao_presenca.on_click(on_registrar_clicked)\n",
        "botao_analise.on_click(on_analise_clicked)\n",
        "\n",
        "display(aluno_dropdown, botao_presenca, botao_analise, output)\n",
        "\n"
      ],
      "metadata": {
        "colab": {
          "base_uri": "https://localhost:8080/",
          "height": 113,
          "referenced_widgets": [
            "15caccfcee9f41fda60eb7cb4ad53df4",
            "83776449c6884d3cacb7fa1478ac25c9",
            "d0764bcf81124f67a5bb041b0268595d",
            "34338024d30448e8ac22cc1c693b22dd",
            "ce94591e43c64f2b8ced61de66374300",
            "fa764715316f4ee1aa00fdd2bbcdbd38",
            "63c9e4bc5da4401291b3d3ee2fe83b8a",
            "74f8fed63aea4ce8967f67c56c14d2bc",
            "8490824dda574fe087943e6fb3b924ac",
            "1c2585a021cd4f2a9099eb4801c7b7d3",
            "5b085081a4084ff58caecfa601ddc1eb"
          ]
        },
        "id": "Vo_VmbNIt8tQ",
        "outputId": "c35e44dd-e292-42a1-dde4-1108288bbc1d"
      },
      "execution_count": 2,
      "outputs": [
        {
          "output_type": "display_data",
          "data": {
            "text/plain": [
              "Dropdown(description='Aluno:', options=('Ana', 'Beatriz', 'Carlos', 'Daniela', 'Eduarda'), value='Ana')"
            ],
            "application/vnd.jupyter.widget-view+json": {
              "version_major": 2,
              "version_minor": 0,
              "model_id": "15caccfcee9f41fda60eb7cb4ad53df4"
            }
          },
          "metadata": {}
        },
        {
          "output_type": "display_data",
          "data": {
            "text/plain": [
              "Button(description='Registrar Presença', style=ButtonStyle())"
            ],
            "application/vnd.jupyter.widget-view+json": {
              "version_major": 2,
              "version_minor": 0,
              "model_id": "34338024d30448e8ac22cc1c693b22dd"
            }
          },
          "metadata": {}
        },
        {
          "output_type": "display_data",
          "data": {
            "text/plain": [
              "Button(description='Analisar Risco', style=ButtonStyle())"
            ],
            "application/vnd.jupyter.widget-view+json": {
              "version_major": 2,
              "version_minor": 0,
              "model_id": "63c9e4bc5da4401291b3d3ee2fe83b8a"
            }
          },
          "metadata": {}
        },
        {
          "output_type": "display_data",
          "data": {
            "text/plain": [
              "Output()"
            ],
            "application/vnd.jupyter.widget-view+json": {
              "version_major": 2,
              "version_minor": 0,
              "model_id": "1c2585a021cd4f2a9099eb4801c7b7d3"
            }
          },
          "metadata": {}
        }
      ]
    },
    {
      "cell_type": "code",
      "source": [],
      "metadata": {
        "id": "x6NBrPX_7Y-u"
      },
      "execution_count": 2,
      "outputs": []
    },
    {
      "cell_type": "code",
      "source": [],
      "metadata": {
        "id": "CSkp0KLpxLvB"
      },
      "execution_count": 2,
      "outputs": []
    }
  ]
}